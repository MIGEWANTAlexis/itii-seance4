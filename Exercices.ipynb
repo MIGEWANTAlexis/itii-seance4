{
 "cells": [
  {
   "cell_type": "code",
   "execution_count": 10,
   "metadata": {},
   "outputs": [
    {
     "name": "stdout",
     "output_type": "stream",
     "text": [
      "1.0999999999999999\n"
     ]
    }
   ],
   "source": [
    "def racine(b,n,e):\n",
    "    precision = e\n",
    "    while precision**n < b:\n",
    "        precision += e\n",
    "    print(precision)\n",
    "\n",
    "racine(128,74,0.1)"
   ]
  },
  {
   "cell_type": "code",
   "execution_count": 41,
   "metadata": {},
   "outputs": [
    {
     "name": "stdout",
     "output_type": "stream",
     "text": [
      "Deux solutions : -6.2678028102765015 et -0.39886385639016514\n",
      "Pour x =  -6.2678028102765015  le polynome : 0.0\n",
      "Pour x =  -0.39886385639016514  le polynome : 0.0\n",
      "fin du calcul des solutions\n"
     ]
    }
   ],
   "source": [
    "from math import sqrt\n",
    "\n",
    "## ax^2 + bx + c\n",
    "def polynome(a, b, c, x):\n",
    "    print (\"Pour x = \", x, \" le polynome :\", a * x * x + b * x + c)\n",
    "\n",
    "def racine (a,b,c):\n",
    "    ## On cherche les solutions du polynome pour ax^2 + bx + c = 0\n",
    "    if a == 0:\n",
    "        if b == 0:\n",
    "            if c == 0:\n",
    "                print (\"Tout réel est une solution\")\n",
    "            else :\n",
    "                print (\"Aucune solution\")\n",
    "        else :\n",
    "            x = -c / b\n",
    "            print (\"Une solution unique\", polynome(a, b, c, x))\n",
    "            \n",
    "    else :\n",
    "        ## calcul de delta  b^2 - 4ac\n",
    "        delta = b**2 - 4 * a * c\n",
    "        if(delta == 0):\n",
    "            ## Si delta = 0 alors il existe une solution unique qui est -b /2*a\n",
    "            x = -b / (2 * a) \n",
    "            print (\"Une solution unique :\", polynome(a, b, c, x))\n",
    "        elif(delta > 0):\n",
    "            ## Si delta est > 0 alors il existe deux solution x1 et x2 (-b -/+ sqrt(delta))/ 2*a \n",
    "            x1 = (-b - sqrt(delta)) / (2 * a) \n",
    "            x2 = (-b + sqrt(delta)) / (2 * a)\n",
    "            print (\"Deux solutions :\", x1, \"et\", x2)\n",
    "            polynome(a, b, c, x1) \n",
    "            polynome(a, b, c, x2)\n",
    "        else :\n",
    "            ## Si delta est inférieur à 0 pas de solution\n",
    "            print (\"Aucune solutions\")\n",
    "    return 'fin du calcul des solutions'\n",
    "\n",
    "print(racine(1.2,8,3))"
   ]
  },
  {
   "cell_type": "code",
   "execution_count": 52,
   "metadata": {},
   "outputs": [
    {
     "data": {
      "image/png": "[encoded data removed]",
      "text/latex": [
       "$\\displaystyle \\frac{\\varepsilon}{4} + x^{2} + 4 x + 4 y$"
      ],
      "text/plain": [
       "\\varepsilon    2            \n",
       "─────────── + x  + 4⋅x + 4⋅y\n",
       "     4                      "
      ]
     },
     "execution_count": 52,
     "metadata": {},
     "output_type": "execute_result"
    }
   ],
   "source": [
    "import sympy as sp\n",
    "\n",
    "init_printing()\n",
    "sqrt(8)\n",
    "\n",
    "x = sp.Symbol(\"x\")# definit le symbole x\n",
    "y = sp.Symbol(\"y\", real=True)# définit la variable réelle y\n",
    "e = sp.Symbol(r\"\\varepsilon\", real=True, positive=True)# définit epsilon positif\n",
    "\n",
    "x + 2*y + e/4 + x**2 + 3*x + 2*y"
   ]
  },
  {
   "cell_type": "code",
   "execution_count": null,
   "metadata": {},
   "outputs": [],
   "source": []
  },
  {
   "cell_type": "code",
   "execution_count": null,
   "metadata": {},
   "outputs": [],
   "source": []
  }
 ],
 "metadata": {
  "kernelspec": {
   "display_name": "Python 3",
   "language": "python",
   "name": "python3"
  },
  "language_info": {
   "codemirror_mode": {
    "name": "ipython",
    "version": 3
   },
   "file_extension": ".py",
   "mimetype": "text/x-python",
   "name": "python",
   "nbconvert_exporter": "python",
   "pygments_lexer": "ipython3",
   "version": "3.7.6"
  }
 },
 "nbformat": 4,
 "nbformat_minor": 4
}
