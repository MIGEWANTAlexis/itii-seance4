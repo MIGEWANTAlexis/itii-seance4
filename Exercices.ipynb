{
 "cells": [
  {
   "cell_type": "code",
   "execution_count": 10,
   "metadata": {},
   "outputs": [
    {
     "name": "stdout",
     "output_type": "stream",
     "text": [
      "1.0999999999999999\n"
     ]
    }
   ],
   "source": [
    "def racine(b,n,e):\n",
    "    precision = e\n",
    "    while precision**n < b:\n",
    "        precision += e\n",
    "    print(precision)\n",
    "\n",
    "racine(128,74,0.1)"
   ]
  },
  {
   "cell_type": "code",
   "execution_count": 71,
   "metadata": {},
   "outputs": [
    {
     "name": "stdout",
     "output_type": "stream",
     "text": [
      "12\n",
      "Deux solutions : -1.5773502691896255 et -0.42264973081037427\n",
      "Pour x =  -1.5773502691896255  le polynome : -8.881784197001252e-16\n",
      "Pour x =  -0.42264973081037427  le polynome : 0.0\n",
      "fin du calcul des solutions\n"
     ]
    }
   ],
   "source": [
    "from math import sqrt\n",
    "\n",
    "## ax^2 + bx + c\n",
    "def polynome(a, b, c, x):\n",
    "    print (\"Pour x = \", x, \" le polynome :\", a * x * x + b * x + c)\n",
    "\n",
    "def racine (a,b,c):\n",
    "    ## On cherche les solutions du polynome pour ax^2 + bx + c = 0\n",
    "    if a == 0:\n",
    "        if b == 0:\n",
    "            if c == 0:\n",
    "                print (\"Tout réel est une solution\")\n",
    "            else :\n",
    "                print (\"Aucune solution\")\n",
    "        else :\n",
    "            x = -c / b\n",
    "            print (\"Une solution unique\", polynome(a, b, c, x))\n",
    "            \n",
    "    else :\n",
    "        ## calcul de delta  b^2 - 4ac\n",
    "        delta = b**2 - 4 * a * c\n",
    "        print(delta)\n",
    "        if(delta == 0):\n",
    "            ## Si delta = 0 alors il existe une solution unique qui est -b /2*a\n",
    "            x = -b / (2 * a) \n",
    "            print (\"Une solution unique :\", polynome(a, b, c, x))\n",
    "        elif(delta > 0):\n",
    "            ## Si delta est > 0 alors il existe deux solution x1 et x2 (-b -/+ sqrt(delta))/ 2*a \n",
    "            x1 = (-b - sqrt(delta)) / (2 * a) \n",
    "            x2 = (-b + sqrt(delta)) / (2 * a)\n",
    "            print (\"Deux solutions :\", x1, \"et\", x2)\n",
    "            polynome(a, b, c, x1) \n",
    "            polynome(a, b, c, x2)\n",
    "        else :\n",
    "            ## Si delta est inférieur à 0 pas de solution\n",
    "            print (\"Aucune solutions\")\n",
    "    return 'fin du calcul des solutions'\n",
    "\n",
    "print(racine(3,6,2))"
   ]
  },
  {
   "cell_type": "code",
   "execution_count": 61,
   "metadata": {},
   "outputs": [
    {
     "data": {
      "image/png": "[encoded data removed]",
      "text/latex": [
       "$\\displaystyle \\frac{\\varepsilon}{4} + x^{2} + 4 x + 4 y$"
      ],
      "text/plain": [
       "\\varepsilon    2            \n",
       "─────────── + x  + 4⋅x + 4⋅y\n",
       "     4                      "
      ]
     },
     "execution_count": 61,
     "metadata": {},
     "output_type": "execute_result"
    }
   ],
   "source": [
    "import sympy as sp\n",
    "\n",
    "init_printing()\n",
    "sqrt(8)\n",
    "\n",
    "x = sp.Symbol(\"x\")# definit le symbole x\n",
    "y = sp.Symbol(\"y\", real=True)# définit la variable réelle y\n",
    "e = sp.Symbol(r\"\\varepsilon\", real=True, positive=True)# définit epsilon positif\n",
    "\n",
    "x + 2*y + e/4 + x**2 + 3*x + 2*y"
   ]
  },
  {
   "cell_type": "code",
   "execution_count": 93,
   "metadata": {},
   "outputs": [
    {
     "data": {
      "image/png": "[encoded data removed]",
      "text/latex": [
       "$\\displaystyle \\left[ - \\frac{1}{3} - \\frac{\\sqrt{11} i}{3}, \\  - \\frac{1}{3} + \\frac{\\sqrt{11} i}{3}\\right]$"
      ],
      "text/plain": [
       "⎡  1   √11⋅ⅈ    1   √11⋅ⅈ⎤\n",
       "⎢- ─ - ─────, - ─ + ─────⎥\n",
       "⎣  3     3      3     3  ⎦"
      ]
     },
     "execution_count": 93,
     "metadata": {},
     "output_type": "execute_result"
    }
   ],
   "source": [
    "from sympy import *\n",
    "\n",
    "## Résoudre un polynome 2 avec solve\n",
    "solve(3*(x**2) + 2*x + 4, x)"
   ]
  },
  {
   "cell_type": "code",
   "execution_count": 92,
   "metadata": {},
   "outputs": [
    {
     "data": {
      "image/png": "[encoded data removed]",
      "text/latex": [
       "$\\displaystyle \\left[ -1, \\  \\frac{1}{5} - \\frac{\\sqrt{19} i}{5}, \\  \\frac{1}{5} + \\frac{\\sqrt{19} i}{5}\\right]$"
      ],
      "text/plain": [
       "⎡    1   √19⋅ⅈ  1   √19⋅ⅈ⎤\n",
       "⎢-1, ─ - ─────, ─ + ─────⎥\n",
       "⎣    5     5    5     5  ⎦"
      ]
     },
     "execution_count": 92,
     "metadata": {},
     "output_type": "execute_result"
    }
   ],
   "source": [
    "from sympy import *\n",
    "\n",
    "## Résoudre un polynome 3 avec solve\n",
    "solve(5*(x**3) + 3*(x**2) + 2*x + 4, x)"
   ]
  },
  {
   "cell_type": "code",
   "execution_count": 91,
   "metadata": {},
   "outputs": [
    {
     "data": {
      "image/png": "[encoded data removed]",
      "text/latex": [
       "$\\displaystyle 2.46740110027234$"
      ],
      "text/plain": [
       "2.46740110027234"
      ]
     },
     "execution_count": 91,
     "metadata": {},
     "output_type": "execute_result"
    }
   ],
   "source": [
    "from sympy import *\n",
    "\n",
    "##evaluer une expression\n",
    "((pi**2)/4).evalf()"
   ]
  },
  {
   "cell_type": "code",
   "execution_count": 96,
   "metadata": {},
   "outputs": [
    {
     "data": {
      "image/png": "[encoded data removed]",
      "text/latex": [
       "$\\displaystyle 1 + 524288 \\sqrt{3}$"
      ],
      "text/plain": [
       "1 + 524288⋅√3"
      ]
     },
     "execution_count": 96,
     "metadata": {},
     "output_type": "execute_result"
    }
   ],
   "source": [
    "from sympy import re, im, I, E\n",
    "from sympy.abc import x, y\n",
    "\n",
    "re(2*E)\n",
    "\n",
    "## Partie réel\n",
    "re(((1+I*sqrt(3))**20)/1+I)\n",
    "\n",
    "## Partie imaginaire\n",
    "im(((1+I*sqrt(3))**20)/1+I)"
   ]
  },
  {
   "cell_type": "code",
   "execution_count": 117,
   "metadata": {},
   "outputs": [
    {
     "data": {
      "image/png": "[encoded data removed]",
      "text/latex": [
       "$\\displaystyle x x^{x^{x}} \\left(x^{x} \\left(\\log{\\left(x \\right)} + 1\\right) \\log{\\left(x \\right)} + \\frac{x^{x}}{x}\\right) e^{x^{x^{x}}} + e^{x^{x^{x}}}$"
      ],
      "text/plain": [
       "                                       ⎛ ⎛ x⎞⎞    ⎛ ⎛ x⎞⎞\n",
       "   ⎛ x⎞ ⎛                          x⎞  ⎜ ⎝x ⎠⎟    ⎜ ⎝x ⎠⎟\n",
       "   ⎝x ⎠ ⎜ x                       x ⎟  ⎝x    ⎠    ⎝x    ⎠\n",
       "x⋅x    ⋅⎜x ⋅(log(x) + 1)⋅log(x) + ──⎟⋅ℯ        + ℯ       \n",
       "        ⎝                         x ⎠                    "
      ]
     },
     "execution_count": 117,
     "metadata": {},
     "output_type": "execute_result"
    }
   ],
   "source": [
    "from sympy import *\n",
    "\n",
    "## Pour calculer une dérivée\n",
    "diff(cos(x), x)\n",
    "diff(x*exp(x**x**x), x)"
   ]
  },
  {
   "cell_type": "code",
   "execution_count": 118,
   "metadata": {},
   "outputs": [
    {
     "data": {
      "image/png": "[encoded data removed]",
      "text/latex": [
       "$\\displaystyle 1$"
      ],
      "text/plain": [
       "1"
      ]
     },
     "execution_count": 118,
     "metadata": {},
     "output_type": "execute_result"
    }
   ],
   "source": [
    "from sympy import *\n",
    "\n",
    "## Calculer les limites\n",
    "\n",
    "limit(sin(x)/x, x, 0)"
   ]
  },
  {
   "cell_type": "code",
   "execution_count": 119,
   "metadata": {},
   "outputs": [
    {
     "data": {
      "image/png": "[encoded data removed]",
      "text/latex": [
       "$\\displaystyle \\infty$"
      ],
      "text/plain": [
       "∞"
      ]
     },
     "execution_count": 119,
     "metadata": {},
     "output_type": "execute_result"
    }
   ],
   "source": [
    "from sympy import *\n",
    "\n",
    "## Calculer les limites quand x tend vers 0\n",
    "\n",
    "limit(1/x, x, 0)"
   ]
  },
  {
   "cell_type": "code",
   "execution_count": 121,
   "metadata": {},
   "outputs": [
    {
     "name": "stdout",
     "output_type": "stream",
     "text": [
      "12146304367025329675766243241881295855454217088483382315328918161829235892362167668831156960612640202170735835221294047782591091570411651472186029519906261646730733907419814952960000000000000000000000000000\n"
     ]
    }
   ],
   "source": [
    "exp = factorial(123)\n",
    "print(exp)"
   ]
  },
  {
   "cell_type": "code",
   "execution_count": null,
   "metadata": {},
   "outputs": [],
   "source": [
    "r = sp.Symbol(\"r\")\n",
    "h = sp.symbol(\"h\")\n",
    "V = sp.Symbol(\"V\")\n",
    "\n",
    "h = V / (pi*r**2)\n",
    "Aire = 2*pi*r*h + 2*pi*r**2\n",
    "print(diff(Aire, r))\n",
    "solve(diff(Aire, r), r)\n",
    "h = V / (pi*[0]**2)\n",
    "print(h)"
   ]
  }
 ],
 "metadata": {
  "kernelspec": {
   "display_name": "Python 3",
   "language": "python",
   "name": "python3"
  },
  "language_info": {
   "codemirror_mode": {
    "name": "ipython",
    "version": 3
   },
   "file_extension": ".py",
   "mimetype": "text/x-python",
   "name": "python",
   "nbconvert_exporter": "python",
   "pygments_lexer": "ipython3",
   "version": "3.7.6"
  }
 },
 "nbformat": 4,
 "nbformat_minor": 4
}
